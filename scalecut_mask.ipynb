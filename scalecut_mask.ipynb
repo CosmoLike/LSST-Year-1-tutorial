{
 "cells": [
  {
   "cell_type": "code",
   "execution_count": 1,
   "metadata": {},
   "outputs": [],
   "source": [
    "import numpy as np"
   ]
  },
  {
   "cell_type": "code",
   "execution_count": 2,
   "metadata": {},
   "outputs": [],
   "source": [
    "THETA_MIN      = 2.5            # Minimum angular scale (in arcminutes)\n",
    "THETA_MAX      = 900.           # Maximum angular scale (in arcminutes)\n",
    "N_ANGULAR_BINS = 26             # Number of angular bins\n",
    "\n",
    "N_LENS_BINS    = 5              # Number of lens tomographic bins\n",
    "N_SRC_BINS     = 5              # Number of source tomographic bins\n",
    "\n",
    "N_XI_POWERSPECTRA = int(N_SRC_BINS * (N_SRC_BINS + 1) / 2)      # Number of power spectra"
   ]
  },
  {
   "cell_type": "code",
   "execution_count": 3,
   "metadata": {},
   "outputs": [],
   "source": [
    "theta_bins = np.logspace(np.log10(THETA_MIN), np.log10(THETA_MAX), N_ANGULAR_BINS+1)"
   ]
  },
  {
   "cell_type": "markdown",
   "metadata": {},
   "source": [
    "#### Mask for cosmic shear ($\\xi_{\\pm}$)"
   ]
  },
  {
   "cell_type": "code",
   "execution_count": 4,
   "metadata": {},
   "outputs": [],
   "source": [
    "ξ_plus_CUTOFF  = 2.756             # cutoff scale in arcminutes\n",
    "ξ_minus_CUTOFF = 8.696             # cutoff scale in arcminutes\n",
    "\n",
    "ξ_plus_mask  = (theta_bins[:-1] > ξ_plus_CUTOFF)\n",
    "ξ_minus_mask = (theta_bins[:-1] > ξ_minus_CUTOFF)\n",
    "\n",
    "ξ_plus_fullmask  = np.hstack([ξ_plus_mask for i in range(N_XI_POWERSPECTRA)])\n",
    "ξ_minus_fullmask = np.hstack([ξ_minus_mask for i in range(N_XI_POWERSPECTRA)])"
   ]
  },
  {
   "cell_type": "markdown",
   "metadata": {},
   "source": [
    "#### Create mask for GGL($\\gamma_t$) and galaxy clustering ($w$)"
   ]
  },
  {
   "cell_type": "code",
   "execution_count": 5,
   "metadata": {},
   "outputs": [],
   "source": [
    "lens_cutoff = [80.88, 54.19, 42.85, 35.43, 29.73]       # cutoff scale in arcmins. \n",
    "                                                        # Different for different redshift bins\n",
    "lens_mask_list = [(theta_bins[:-1] > lens_cutoff[i]) for i in range(N_LENS_BINS)]"
   ]
  },
  {
   "cell_type": "code",
   "execution_count": 6,
   "metadata": {},
   "outputs": [],
   "source": [
    "γt_fullmask_list = []\n",
    "\n",
    "for i in range(N_LENS_BINS):\n",
    "    for j in range(N_SRC_BINS):\n",
    "        lens_mask = lens_mask_list[i]\n",
    "        γt_fullmask_list.append(lens_mask)\n",
    "        \n",
    "γt_fullmask = np.hstack(γt_fullmask_list)        "
   ]
  },
  {
   "cell_type": "code",
   "execution_count": 7,
   "metadata": {},
   "outputs": [],
   "source": [
    "w_fullmask = np.hstack(lens_mask_list)"
   ]
  },
  {
   "cell_type": "markdown",
   "metadata": {},
   "source": [
    "#### Combine all the masks"
   ]
  },
  {
   "cell_type": "code",
   "execution_count": 8,
   "metadata": {},
   "outputs": [],
   "source": [
    "lsst_3x2_mask = np.hstack([ξ_plus_fullmask, ξ_minus_fullmask, γt_fullmask, w_fullmask])"
   ]
  },
  {
   "cell_type": "code",
   "execution_count": 9,
   "metadata": {},
   "outputs": [],
   "source": [
    "with open('data/lsst_3x2_fiducial_mask.mask', 'w') as f:\n",
    "    for i, mask_val in enumerate(lsst_3x2_mask):\n",
    "        f.write(\"%d\\t%d\\n\"%(i, int(mask_val)))"
   ]
  }
 ],
 "metadata": {
  "kernelspec": {
   "display_name": "Python 3",
   "language": "python",
   "name": "python3"
  },
  "language_info": {
   "codemirror_mode": {
    "name": "ipython",
    "version": 3
   },
   "file_extension": ".py",
   "mimetype": "text/x-python",
   "name": "python",
   "nbconvert_exporter": "python",
   "pygments_lexer": "ipython3",
   "version": "3.8.2"
  }
 },
 "nbformat": 4,
 "nbformat_minor": 4
}
